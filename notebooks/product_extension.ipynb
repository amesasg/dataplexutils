{
 "cells": [
  {
   "cell_type": "code",
   "execution_count": null,
   "metadata": {},
   "outputs": [],
   "source": [
    "\n",
    "\n",
    "!pip install google-cloud-dataplex\n",
    "!pip install google-cloud-datacatalog-lineage\n",
    "!pip install pandas\n",
    "!pip install google-cloud-bigquery[pandas]"
   ]
  },
  {
   "cell_type": "code",
   "execution_count": 1,
   "metadata": {},
   "outputs": [
    {
     "name": "stdout",
     "output_type": "stream",
     "text": [
      "In module products sys.path[0], __package__ == ['/usr/lib/python312.zip', '/usr/lib/python3.12', '/usr/lib/python3.12/lib-dynload', '', '/home/garciaam/.local/lib/python3.12/site-packages', '/usr/local/lib/python3.12/dist-packages', '/usr/lib/python3/dist-packages', '/home/garciaam/dataplexutils/src/package/dataplexutils'] None\n"
     ]
    }
   ],
   "source": [
    "import logging\n",
    "import random\n",
    "import string\n",
    "\n",
    "# Cloud imports\n",
    "from google.cloud import bigquery\n",
    "from google.cloud.exceptions import NotFound\n",
    "import sys\n",
    "import os\n",
    "os.environ['GOOGLE_APPLICATION_CREDENTIALS'] = '/tmp/tmp.qDnpX1PSwY/application_default_credentials.json'\n",
    "os.environ['GOOGLE_CLOUD_PROJECT'] = 'garciaam-670-20240123092619'  # Replace with your actual Project ID\n",
    "\n",
    "sys.path.append('/home/garciaam/dataplexutils/src/package/dataplexutils')\n",
    "print(\"In module products sys.path[0], __package__ ==\", sys.path, __package__)\n",
    "\n",
    "\n",
    "\n",
    "from metadata import Client\n",
    "from metadata import ClientOptions\n",
    "\n",
    "client_options = ClientOptions(\n",
    "            use_lineage_tables=True,\n",
    "            use_lineage_processes=True,\n",
    "            use_profile=True,\n",
    "            use_data_quality=True        )\n",
    "\n",
    "location =\"us-central1\"\n",
    "project_id = \"garciaam-670-20240123092619\"\n",
    "dataset_name = \"customer_data_product\"\n",
    "table_name = \"customer_data\"\n",
    "client = Client(\n",
    "            project_id=project_id,\n",
    "            llm_location=location,\n",
    "            dataplex_location=location,\n",
    "            client_options=client_options,\n",
    "        )\n"
   ]
  },
  {
   "cell_type": "code",
   "execution_count": null,
   "metadata": {},
   "outputs": [],
   "source": [
    "table= f\"{project_id}.merchants_data_product.core_merchants\"\n",
    "\n",
    "client.create_product_description(table)"
   ]
  },
  {
   "cell_type": "code",
   "execution_count": null,
   "metadata": {},
   "outputs": [],
   "source": [
    "\n",
    "description = wizard_client.generate_table_description(table)\n",
    "wizard_client\n",
    "print(description)"
   ]
  },
  {
   "cell_type": "code",
   "execution_count": null,
   "metadata": {},
   "outputs": [
    {
     "name": "stdout",
     "output_type": "stream",
     "text": [
      "hola1\n",
      "hola2\n",
      "False\n",
      "hola3\n",
      "{'name': 'product_owner', 'value': 'tst@google.com', 'validation': 'it should be a valid email', 'type': 'string'}\n",
      "{'name': 'data_freshness', 'value': 'TBC', 'validation': 'it should be a valid data_freshness SLA in number of days data is being updated', 'type': 'string'}\n",
      "{'name': 'data_quality_score', 'value': 'TBC', 'validation': 'it should be a valid number that define data quality from 0-1 ', 'type': 'string'}\n",
      "An unexpected error occurred: bad argument type for built-in operation\n"
     ]
    }
   ],
   "source": [
    "json = \"/home/garciaam/dataplexutils/tests/sample_contract.json\"\n",
    "table= f\"{project_id}.merchants_data_product.core_merchants\"\n",
    "\n",
    "client.create_contract_aspects(json,table)"
   ]
  }
 ],
 "metadata": {
  "kernelspec": {
   "display_name": "Python 3",
   "language": "python",
   "name": "python3"
  },
  "language_info": {
   "codemirror_mode": {
    "name": "ipython",
    "version": 3
   },
   "file_extension": ".py",
   "mimetype": "text/x-python",
   "name": "python",
   "nbconvert_exporter": "python",
   "pygments_lexer": "ipython3",
   "version": "3.12.3"
  }
 },
 "nbformat": 4,
 "nbformat_minor": 2
}
