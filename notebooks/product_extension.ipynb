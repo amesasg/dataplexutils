{
 "cells": [
  {
   "cell_type": "code",
   "execution_count": null,
   "metadata": {},
   "outputs": [],
   "source": [
    "\n",
    "\n",
    "!pip install google-cloud-dataplex\n",
    "!pip install google-cloud-datacatalog-lineage\n",
    "!pip install pandas\n",
    "!pip install google-cloud-bigquery[pandas]"
   ]
  },
  {
   "cell_type": "code",
   "execution_count": 1,
   "metadata": {},
   "outputs": [
    {
     "name": "stdout",
     "output_type": "stream",
     "text": [
      "In module products sys.path[0], __package__ == ['/usr/lib/python312.zip', '/usr/lib/python3.12', '/usr/lib/python3.12/lib-dynload', '', '/home/garciaam/.local/lib/python3.12/site-packages', '/usr/local/lib/python3.12/dist-packages', '/usr/lib/python3/dist-packages', '/home/garciaam/dataplexutils/src/package/dataplexutils'] None\n"
     ]
    }
   ],
   "source": [
    "import logging\n",
    "import random\n",
    "import string\n",
    "\n",
    "# Cloud imports\n",
    "from google.cloud import bigquery\n",
    "from google.cloud.exceptions import NotFound\n",
    "import sys\n",
    "import os\n",
    "os.environ['GOOGLE_APPLICATION_CREDENTIALS'] = '/tmp/tmp.l1Gi2NM7r5/application_default_credentials.json'\n",
    "os.environ['GOOGLE_CLOUD_PROJECT'] = 'garciaam-670-20240123092619'  # Replace with your actual Project ID\n",
    "\n",
    "sys.path.append('/home/garciaam/dataplexutils/src/package/dataplexutils')\n",
    "print(\"In module products sys.path[0], __package__ ==\", sys.path, __package__)\n",
    "\n",
    "\n",
    "\n",
    "from metadata import Client\n",
    "from metadata import ClientOptions\n",
    "\n",
    "client_options = ClientOptions(\n",
    "            use_lineage_tables=True,\n",
    "            use_lineage_processes=True,\n",
    "            use_profile=True,\n",
    "            use_data_quality=True        )\n",
    "\n",
    "location =\"us-central1\"\n",
    "project_id = \"garciaam-670-20240123092619\"\n",
    "dataset_name = \"customer_data_product\"\n",
    "table_name = \"customer_data\"\n",
    "client = Client(\n",
    "            project_id=project_id,\n",
    "            llm_location=location,\n",
    "            dataplex_location=location,\n",
    "            client_options=client_options,\n",
    "        )\n"
   ]
  },
  {
   "cell_type": "code",
   "execution_count": null,
   "metadata": {},
   "outputs": [],
   "source": [
    "table= f\"{project_id}.merchants_data_product.core_merchants\"\n",
    "\n",
    "client.create_product_description(table)"
   ]
  },
  {
   "cell_type": "code",
   "execution_count": null,
   "metadata": {},
   "outputs": [],
   "source": [
    "\n",
    "description = wizard_client.generate_table_description(table)\n",
    "wizard_client\n",
    "print(description)"
   ]
  },
  {
   "cell_type": "code",
   "execution_count": 2,
   "metadata": {},
   "outputs": [
    {
     "name": "stderr",
     "output_type": "stream",
     "text": [
      "DEBUG:wizard_logger:Splitting table FQN: garciaam-670-20240123092619.merchants_data_product.core_merchants.\n",
      "DEBUG:wizard_logger:Found 3 groups: garciaam-670-20240123092619 merchants_data_product core_merchants\n",
      "DEBUG:wizard_logger:Splitting table FQN: garciaam-670-20240123092619.merchants_data_product.core_merchants.\n",
      "DEBUG:wizard_logger:Found 3 groups: garciaam-670-20240123092619 merchants_data_product core_merchants\n",
      "DEBUG:wizard_logger:Splitting table FQN: garciaam-670-20240123092619.merchants_data_product.core_merchants.\n",
      "DEBUG:wizard_logger:Found 3 groups: garciaam-670-20240123092619 merchants_data_product core_merchants\n",
      "ERROR:wizard_logger:Failed to create aspect: 403 Permission denied on resource project garciaam-670-20240123092619.global.product-info. [reason: \"CONSUMER_INVALID\"\n",
      "domain: \"googleapis.com\"\n",
      "metadata {\n",
      "  key: \"service\"\n",
      "  value: \"dataplex.googleapis.com\"\n",
      "}\n",
      "metadata {\n",
      "  key: \"containerInfo\"\n",
      "  value: \"garciaam-670-20240123092619.global.product-info\"\n",
      "}\n",
      "metadata {\n",
      "  key: \"consumer\"\n",
      "  value: \"projects/garciaam-670-20240123092619.global.product-info\"\n",
      "}\n",
      ", locale: \"en-US\"\n",
      "message: \"Permission denied on resource project garciaam-670-20240123092619.global.product-info.\"\n",
      ", links {\n",
      "  description: \"Google developers console\"\n",
      "  url: \"https://console.developers.google.com\"\n",
      "}\n",
      "]\n"
     ]
    }
   ],
   "source": [
    "json = \"/home/garciaam/dataplexutils/tests/sample_contract.json\"\n",
    "table= f\"{project_id}.merchants_data_product.core_merchants\"\n",
    "\n",
    "client.create_contract_aspects(json,table)"
   ]
  }
 ],
 "metadata": {
  "kernelspec": {
   "display_name": "Python 3",
   "language": "python",
   "name": "python3"
  },
  "language_info": {
   "codemirror_mode": {
    "name": "ipython",
    "version": 3
   },
   "file_extension": ".py",
   "mimetype": "text/x-python",
   "name": "python",
   "nbconvert_exporter": "python",
   "pygments_lexer": "ipython3",
   "version": "3.12.3"
  }
 },
 "nbformat": 4,
 "nbformat_minor": 2
}
